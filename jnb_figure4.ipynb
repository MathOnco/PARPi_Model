{
 "cells": [
  {
   "cell_type": "markdown",
   "metadata": {},
   "source": [
    "# Figure 4: Model of the response dynamics under continuous treatment at 100 $\\mu$M"
   ]
  },
  {
   "cell_type": "code",
   "execution_count": 4,
   "metadata": {
    "init_cell": true
   },
   "outputs": [],
   "source": [
    "import sys\n",
    "import pandas as pd\n",
    "import numpy as np\n",
    "import os\n",
    "import pickle\n",
    "import matplotlib.pyplot as plt\n",
    "import seaborn as sns\n",
    "%matplotlib inline\n",
    "from tqdm import tqdm\n",
    "from lmfit import minimize, Parameters\n",
    "from itertools import product\n",
    "import multiprocess as mp\n",
    "\n",
    "# Import my own libraries\n",
    "sys.path.append('./utils/')\n",
    "import myUtils as utils\n",
    "from odeModels import MakeModelFromStr\n",
    "from fittingUtils import residual, ComputeRSquared, PlotFit, PlotData, LoadFit, \\\n",
    "                            perform_bootstrap, compute_confidenceInterval_prediction, \\\n",
    "                            benchmark_prediction_accuracy, compute_confidenceInterval_parameters\n",
    "\n",
    "# Format plot\n",
    "sns.set(style=\"white\",\n",
    "        rc={'figure.figsize':(12,6), 'xtick.labelsize': 22, 'ytick.labelsize': 22})"
   ]
  },
  {
   "cell_type": "code",
   "execution_count": 11,
   "metadata": {
    "init_cell": true
   },
   "outputs": [],
   "source": [
    "# Data and solver configurations\n",
    "cellLine = \"OVCAR3\"\n",
    "runFitting = True\n",
    "n_bootstraps = 25 # Number of bootstraps used in uncertainty estimation\n",
    "ci_significanceLevel = 0.95 # Significance level for confidence and prediction intervals\n",
    "solver_kws={'method':'DOP853', 'absErr':1.0e-8, 'relErr':1.0e-6, 'suppressOutputB':False}\n",
    "optimiser_kws = {'method':'least_squares', 'xtol':1e-8, 'ftol':1e-8,\n",
    "                 'nan_policy':'omit', 'verbose':2}\n",
    "\n",
    "# Load growth model parameters\n",
    "growthModel = \"GeneralisedLogistic\"\n",
    "fitObj,_ = LoadFit(growthModel,fitDir=os.path.join(\"./fits/growthModel/%s\"%cellLine,growthModel))\n",
    "params = fitObj.params\n",
    "params['r'].set(vary=False)\n",
    "params['K'].set(vary=False)\n",
    "params['v'].set(vary=False)\n",
    "params['N0'].set(vary=False)\n",
    "\n",
    "# Environment\n",
    "nProcesses = 4 # Number of cores to use for bootstrapping\n",
    "dataDir = \"./data/\"\n",
    "modelDir = \"./fits/\"\n",
    "cycleArrestModelPalette = {\"TumourSize\":sns.xkcd_rgb['ocean blue'],\n",
    "                      \"P\":'g',\n",
    "                      \"A\":'purple'}"
   ]
  },
  {
   "cell_type": "code",
   "execution_count": 6,
   "metadata": {
    "init_cell": true
   },
   "outputs": [],
   "source": [
    "# Load the treatment data for model development and testing\n",
    "dataDf_all = pd.read_csv(\"./data/intermittentTreatmentDf_cleaned.csv\", index_col=0)\n",
    "dataDf_all = dataDf_all[(dataDf_all.DMax==100) & (dataDf_all.CellLine==cellLine)] # Only select 100uM experiment here. Will use 50uM when developing the dose-resoponse model\n",
    "\n",
    "# For model development, use the data for CT treatment\n",
    "trainingDataDf_all = dataDf_all[dataDf_all.Delay==100]\n",
    "trainingDataDf_avg = trainingDataDf_all.groupby(by=\"Time\").mean().reset_index()\n",
    "\n",
    "# For model testing, use the data from the 7d-on experiment\n",
    "testingDataDf_all = dataDf_all[dataDf_all.Delay==7]\n",
    "testingDataDf_avg = testingDataDf_all.groupby(by=\"Time\").mean().reset_index()"
   ]
  },
  {
   "cell_type": "markdown",
   "metadata": {},
   "source": [
    "## b) Calibrate and test a model which assumes PARPi exposure induces cell cycle arrest at the next division (Single Step Model)"
   ]
  },
  {
   "cell_type": "code",
   "execution_count": 13,
   "metadata": {},
   "outputs": [],
   "source": [
    "# Parameters\n",
    "modelName = \"CycleArrestModel_singleStep\"\n",
    "params.add('alpha', value=5e-1, min=0, max=1, vary=True)\n",
    "params.add('beta', value=0.1, min=0, max=5e-1, vary=True)\n",
    "params.add('d_A', value=5e-2, min=0, max=5e-1, vary=True)\n",
    "params.add('P0', value=10, min=0, max=100., vary=False)\n",
    "params.add('A0', value=0, vary=False)\n",
    "\n",
    "currOutDir = os.path.join(modelDir, \"treatmentModel\", cellLine, modelName)\n",
    "utils.mkdir(currOutDir);"
   ]
  },
  {
   "cell_type": "markdown",
   "metadata": {},
   "source": [
    "### Carry out fitting"
   ]
  },
  {
   "cell_type": "code",
   "execution_count": 14,
   "metadata": {},
   "outputs": [
    {
     "name": "stdout",
     "output_type": "stream",
     "text": [
      "   Iteration     Total nfev        Cost      Cost reduction    Step norm     Optimality   \n",
      "       0              1         1.2982e+04                                    4.87e+04    \n",
      "       1              2         1.1118e+03      1.19e+04       1.29e-01       7.28e+03    \n",
      "       2              3         8.6648e+02      2.45e+02       2.18e-02       2.19e+02    \n",
      "       3              4         6.4396e+02      2.23e+02       6.44e-02       1.54e+03    \n",
      "       4              5         5.9868e+02      4.53e+01       3.95e-02       4.11e+02    \n",
      "       5              8         5.9582e+02      2.85e+00       7.48e-03       2.11e+01    \n",
      "       6              9         5.9361e+02      2.21e+00       8.80e-03       2.07e+01    \n",
      "       7             11         5.9343e+02      1.84e-01       7.71e-03       7.53e+01    \n",
      "       8             12         5.9305e+02      3.81e-01       5.22e-03       1.16e+01    \n",
      "       9             14         5.9301e+02      4.02e-02       8.81e-04       4.52e+00    \n",
      "      10             16         5.9301e+02      4.60e-03       1.10e-03       5.23e+00    \n",
      "      11             17         5.9300e+02      2.44e-03       6.45e-04       3.99e+00    \n",
      "      12             19         5.9300e+02      6.20e-04       2.75e-04       1.13e+00    \n",
      "      13             21         5.9300e+02      1.05e-04       5.17e-05       1.97e-01    \n",
      "      14             22         5.9300e+02      5.45e-05       6.75e-05       4.57e-01    \n",
      "      15             24         5.9300e+02      4.09e-05       7.09e-05       2.27e-01    \n",
      "      16             27         5.9300e+02      4.17e-07       4.27e-06       2.17e-02    \n",
      "`ftol` termination condition is satisfied.\n",
      "Function evaluations 27, initial cost 1.2982e+04, final cost 5.9300e+02, first-order optimality 2.17e-02.\n"
     ]
    }
   ],
   "source": [
    "if runFitting:\n",
    "    # Setup env\n",
    "    tmpModel = MakeModelFromStr(modelName)\n",
    "    currParams = Parameters()\n",
    "    currParams.add_many(*[params[x] for x in tmpModel.paramDic.keys()])\n",
    "    if currParams['P0'].vary==False: currParams['P0'].value = trainingDataDf_avg.Confluence.iloc[0]    \n",
    "\n",
    "    # Fit\n",
    "    fitObj = minimize(residual, currParams, args=(0, trainingDataDf_avg, tmpModel, \"Confluence\", solver_kws),**optimiser_kws)\n",
    "    fitObj.fitId = 0\n",
    "    fitObj.modelName = modelName\n",
    "    fitObj.data = trainingDataDf_avg\n",
    "    fitObj.rSq = ComputeRSquared(fitObj, trainingDataDf_avg)\n",
    "\n",
    "    # Post-process\n",
    "    pickle.dump(obj=fitObj, file=open(os.path.join(currOutDir,\"fitObj_fit_%d.p\"%(fitObj.fitId)), \"wb\"))"
   ]
  },
  {
   "cell_type": "markdown",
   "metadata": {},
   "source": [
    "### Estimate uncertainty in parameter estimates and model predictions by parametric bootstrapping"
   ]
  },
  {
   "cell_type": "code",
   "execution_count": 15,
   "metadata": {},
   "outputs": [
    {
     "name": "stderr",
     "output_type": "stream",
     "text": [
      "100%|██████████| 25/25 [00:14<00:00,  1.78it/s]\n"
     ]
    }
   ],
   "source": [
    "if runFitting:\n",
    "    # Turn off verboseness for bootstrapping\n",
    "    optimiser_kws_bootstrapping = optimiser_kws.copy()\n",
    "    optimiser_kws_bootstrapping['verbose'] = 0\n",
    "    # Run bootstrapping\n",
    "    growthModelBootstrapsDf = pd.read_csv(os.path.join(modelDir, \"growthModel\", cellLine, growthModel, \"bootstraps.csv\"), index_col=0)\n",
    "    perform_bootstrap(fitObj=LoadFit(modelName,fitDir=currOutDir)[0],\n",
    "                      prior_experiment_df=growthModelBootstrapsDf,\n",
    "                      n_bootstraps=n_bootstraps, show_progress=True,\n",
    "                      solver_kws=solver_kws, optimiser_kws=optimiser_kws_bootstrapping, \n",
    "                      outName=os.path.join(currOutDir, \"bootstraps.csv\"))"
   ]
  },
  {
   "cell_type": "markdown",
   "metadata": {},
   "source": [
    "### Plot fits"
   ]
  },
  {
   "cell_type": "code",
   "execution_count": 17,
   "metadata": {},
   "outputs": [
    {
     "name": "stderr",
     "output_type": "stream",
     "text": [
      "100%|██████████| 25/25 [00:00<00:00, 123.67it/s]\n"
     ]
    }
   ],
   "source": [
    "# Load models and simulate\n",
    "fitObj,myModel = LoadFit(modelName,fitDir=currOutDir)\n",
    "bootstrapResultsDf = pd.read_csv(os.path.join(currOutDir, \"bootstraps.csv\"), index_col=0)\n",
    "modelFitsDf = compute_confidenceInterval_prediction(fitObj=fitObj, bootstrapResultsDf=bootstrapResultsDf,\n",
    "                                                     treatmentScheduleList=utils.ExtractTreatmentFromDf(trainingDataDf_avg),\n",
    "                                                     show_progress=True, n_time_steps=100,\n",
    "                                                     alpha=ci_significanceLevel,\n",
    "                                                     solver_kws=solver_kws, optimiser_kws=optimiser_kws)"
   ]
  },
  {
   "cell_type": "code",
   "execution_count": 18,
   "metadata": {},
   "outputs": [
    {
     "data": {
      "image/png": "[encoded data removed]",
      "text/plain": [
       "<Figure size 504x432 with 2 Axes>"
      ]
     },
     "metadata": {},
     "output_type": "display_data"
    }
   ],
   "source": [
    "# Plot\n",
    "fig, ax = plt.subplots(1,1,figsize=(7,6))\n",
    "# 1. Plot the model predictions and associated confidence intervals\n",
    "sns.lineplot(x=\"Time\",y=\"Estimate_MLE\", hue=\"Variable\", style=\"Variable\",\n",
    "             lw=5, palette=cycleArrestModelPalette,\n",
    "             legend=False,\n",
    "             data=modelFitsDf, ax=ax)\n",
    "for var in cycleArrestModelPalette.keys():\n",
    "    currDataDf = modelFitsDf[modelFitsDf.Variable==var]\n",
    "    plt.fill_between(currDataDf.Time, currDataDf['CI_Lower_Bound'], \n",
    "                     currDataDf['CI_Upper_Bound'], color=cycleArrestModelPalette[var], alpha=0.2)\n",
    "# 2. Plot the data\n",
    "sns.lineplot(x=\"Time\", y=\"Confluence\", style=\"CellLine\", err_style='bars',\n",
    "             markers=\"o\", lw=0, markersize=10, color=\"black\",\n",
    "             legend=False, data=trainingDataDf_all, ax=ax)\n",
    "# 3. Plot the drug concentration\n",
    "tmpDf = trainingDataDf_avg.copy()\n",
    "tmpDf.Confluence = np.nan\n",
    "PlotData(tmpDf, y2lim=110, decorateY2=False, ax=ax)\n",
    "ax.tick_params(labelsize=28)\n",
    "ax.set_ylim(0,75)\n",
    "ax.set_xlabel(\"\")\n",
    "ax.set_ylabel(\"\")\n",
    "plt.savefig(\"./figures/fits_CT_singleStepModel_%s.pdf\"%cellLine)"
   ]
  },
  {
   "cell_type": "markdown",
   "metadata": {},
   "source": [
    "### Test model by benchmarking its ability to predict response to an intermittent schedule"
   ]
  },
  {
   "cell_type": "code",
   "execution_count": null,
   "metadata": {},
   "outputs": [],
   "source": [
    "# Load models and simulate\n",
    "fitObj,myModel = LoadFit(modelName,fitDir=currOutDir)\n",
    "bootstrapResultsDf = pd.read_csv(os.path.join(currOutDir, \"bootstraps.csv\"), index_col=0)\n",
    "modelPredictionsDf = compute_confidenceInterval_prediction(fitObj=fitObj, bootstrapResultsDf=bootstrapResultsDf,\n",
    "                                                     treatmentScheduleList=utils.ExtractTreatmentFromDf(testingDataDf_avg),\n",
    "                                                     initialConditionsList={\"P0\":testingDataDf_avg.Confluence.iloc[0], \"A0\":0},\n",
    "                                                     show_progress=True, n_time_steps=100,\n",
    "                                                     alpha=ci_significanceLevel,\n",
    "                                                     solver_kws=solver_kws, optimiser_kws=optimiser_kws)"
   ]
  },
  {
   "cell_type": "code",
   "execution_count": null,
   "metadata": {},
   "outputs": [],
   "source": [
    "# Plot\n",
    "fig, ax = plt.subplots(1,1,figsize=(7,6))\n",
    "# 1. Plot the model predictions and associated confidence intervals\n",
    "sns.lineplot(x=\"Time\",y=\"Estimate_MLE\", hue=\"Variable\", style=\"Variable\",\n",
    "             lw=5, palette=cycleArrestModelPalette,\n",
    "             legend=False,\n",
    "             data=modelPredictionsDf, ax=ax)\n",
    "for var in cycleArrestModelPalette.keys():\n",
    "    currDataDf = modelPredictionsDf[modelPredictionsDf.Variable==var]\n",
    "    plt.fill_between(currDataDf.Time, currDataDf['CI_Lower_Bound'], \n",
    "                     currDataDf['CI_Upper_Bound'], color=cycleArrestModelPalette[var], alpha=0.2)\n",
    "# 2. Plot the data\n",
    "sns.lineplot(x=\"Time\", y=\"Confluence\", style=\"CellLine\", err_style='bars',\n",
    "             markers=\"o\", lw=0, markersize=10, color=\"black\",\n",
    "             legend=False, data=testingDataDf_all, ax=ax)\n",
    "# 3. Plot the drug concentration\n",
    "tmpDf = testingDataDf_all.copy()\n",
    "tmpDf.Confluence = np.nan\n",
    "PlotData(tmpDf, y2lim=110, decorateY2=False, ax=ax)\n",
    "ax.tick_params(labelsize=28)\n",
    "ax.set_ylim(0,110)\n",
    "ax.set_xlabel(\"\")\n",
    "ax.set_ylabel(\"\")\n",
    "plt.savefig(\"./figures/predictions_IMT7d_singleStepModel_%s.pdf\"%cellLine)"
   ]
  },
  {
   "cell_type": "code",
   "execution_count": null,
   "metadata": {},
   "outputs": [],
   "source": []
  }
 ],
 "metadata": {
  "celltoolbar": "Initialization Cell",
  "kernelspec": {
   "display_name": "Python 3",
   "language": "python",
   "name": "python3"
  },
  "language_info": {
   "codemirror_mode": {
    "name": "ipython",
    "version": 3
   },
   "file_extension": ".py",
   "mimetype": "text/x-python",
   "name": "python",
   "nbconvert_exporter": "python",
   "pygments_lexer": "ipython3",
   "version": "3.8.5"
  },
  "varInspector": {
   "cols": {
    "lenName": 16,
    "lenType": 16,
    "lenVar": 40
   },
   "kernels_config": {
    "python": {
     "delete_cmd_postfix": "",
     "delete_cmd_prefix": "del ",
     "library": "var_list.py",
     "varRefreshCmd": "print(var_dic_list())"
    },
    "r": {
     "delete_cmd_postfix": ") ",
     "delete_cmd_prefix": "rm(",
     "library": "var_list.r",
     "varRefreshCmd": "cat(var_dic_list()) "
    }
   },
   "types_to_exclude": [
    "module",
    "function",
    "builtin_function_or_method",
    "instance",
    "_Feature"
   ],
   "window_display": false
  }
 },
 "nbformat": 4,
 "nbformat_minor": 2
}
